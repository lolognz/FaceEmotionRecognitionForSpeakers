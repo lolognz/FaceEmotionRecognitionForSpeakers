{
 "cells": [
  {
   "cell_type": "markdown",
   "metadata": {},
   "source": [
    "## Importamos las librerias necesarias"
   ]
  },
  {
   "cell_type": "code",
   "execution_count": 1,
   "metadata": {},
   "outputs": [],
   "source": [
    "import os\n",
    "import cv2\n",
    "import numpy as np\n",
    "import tensorflow as tf\n",
    "\n",
    "import matplotlib.pyplot as plt\n",
    "\n",
    "from sklearn.model_selection import train_test_split\n",
    "from sklearn.preprocessing import LabelEncoder\n",
    "\n",
    "from tensorflow.keras.utils import to_categorical\n",
    "from tensorflow.keras.preprocessing.image import ImageDataGenerator"
   ]
  },
  {
   "cell_type": "markdown",
   "metadata": {},
   "source": [
    "## Cargamos los datos y los preprocesamos"
   ]
  },
  {
   "cell_type": "code",
   "execution_count": 2,
   "metadata": {},
   "outputs": [],
   "source": [
    "# Auxiliary function for data distribution visualization\n",
    "def data_visualization(classes, data):\n",
    "    \"\"\"\n",
    "    Vizualize the distribution of the dataset.\n",
    "  \n",
    "    This function presents the number of samples each category has\n",
    "    through a bar plot.\n",
    "\n",
    "    Args:\n",
    "        classes (list): List of the emotion-categories\n",
    "        data (list): List of the number of images per category \n",
    " \n",
    "    Returns:\n",
    "        No value\n",
    "    \"\"\"\n",
    "\n",
    "    fig, ax = plt.subplots(figsize=(9, 5))\n",
    "    ax.bar(classes, data)\n",
    "    ax.set(title=\"Dataset's distribution for each Emotion class\")\n",
    "    ax.set(xlabel=\"Emotions\", ylabel=\"#Images\");\n",
    "    ax.grid()\n",
    "\n",
    "\n",
    "def load_data(data_path):\n",
    "    \"\"\"\n",
    "    Load the dataset to the memory.\n",
    "  \n",
    "    This function takes a data path and loads all images (along with their\n",
    "    corresponding labels) as numpy arrays per category to the memory.\n",
    "    Subsequently, the labels are one-hot encoded. Before the images, labels\n",
    "    are returned, the distribution of the dataset is presented.\n",
    "\n",
    "    Args:\n",
    "        data_path (str): The path of the dataset's whereabouts\n",
    "   \n",
    "    Returns:\n",
    "        data (numpy.ndarray): The images of the dataset\n",
    "        labels (numpy.ndarray): The labels of each image\n",
    "    \"\"\"\n",
    "\n",
    "    subfolders_ck = os.listdir(data_path)\n",
    "    #Avoid problems with DS_Store file on MacOS\n",
    "    if '.DS_Store' in subfolders_ck:\n",
    "        subfolders_ck.remove('.DS_Store')\n",
    "\n",
    "    print(\"[INFO] Dataset Loading...\\n\")\n",
    "\n",
    "    img_data_list=[]\n",
    "    labels_list = []\n",
    "    num_images_per_class = []\n",
    "\n",
    "    for category in subfolders_ck:\n",
    "        img_list=os.listdir(data_path +'/'+ category)\n",
    "\n",
    "        print('Loading :', len(img_list), 'images of category', category)\n",
    "        for img in img_list:\n",
    "            # Load an image from this path\n",
    "            pixels=cv2.imread(data_path + '/'+ category + '/'+ img )\n",
    "            face_array=cv2.resize(pixels, None, fx=1, fy=1,interpolation = cv2.INTER_CUBIC)\n",
    "\n",
    "            img_data_list.append(face_array)          \n",
    "            labels_list.append(category)\n",
    "\n",
    "        num_images_per_class.append(len(img_list))\n",
    "\n",
    "    le = LabelEncoder()\n",
    "    labels = le.fit_transform(labels_list)\n",
    "    labels = to_categorical(labels, 7)\n",
    "\n",
    "    data_visualization(subfolders_ck, num_images_per_class)\n",
    "    \n",
    "    data = np.array([[x] for x in img_data_list])\n",
    "    # Dataset Summary\n",
    "    print(\"\\nTotal number of uploaded data: \", data.shape[0],\n",
    "          \", with data shape\", (data.shape[1],data.shape[2],data.shape[3]))\n",
    "\n",
    "    return data, labels"
   ]
  },
  {
   "cell_type": "code",
   "execution_count": 3,
   "metadata": {},
   "outputs": [
    {
     "name": "stdout",
     "output_type": "stream",
     "text": [
      "[INFO] Dataset Loading...\n",
      "\n",
      "Loading : 7215 images of category happy\n",
      "Loading : 4830 images of category sad\n",
      "Loading : 4097 images of category fearful\n",
      "Loading : 4965 images of category neutral\n",
      "Loading : 3995 images of category angry\n",
      "Loading : 436 images of category disgusted\n",
      "Loading : 3171 images of category surprised\n",
      "\n",
      "Total number of uploaded data:  28709 , with data shape (1, 48, 48)\n"
     ]
    },
    {
     "data": {
      "image/png": "[encoded data removed]",
      "text/plain": [
       "<Figure size 648x360 with 1 Axes>"
      ]
     },
     "metadata": {
      "needs_background": "light"
     },
     "output_type": "display_data"
    }
   ],
   "source": [
    "data_path_ck = \"FER_Dataset/train\"\n",
    "data, labels = load_data(data_path_ck)"
   ]
  },
  {
   "cell_type": "code",
   "execution_count": 4,
   "metadata": {},
   "outputs": [
    {
     "name": "stdout",
     "output_type": "stream",
     "text": [
      "X_train has shape: (20096, 1, 48, 48, 3)\n",
      "y_train has shape: (20096, 7)\n",
      "\n",
      "X_valid has shape: (4306, 1, 48, 48, 3)\n",
      "y_valid has shape: (4306, 7)\n",
      "\n",
      "X_test has shape: (4307, 1, 48, 48, 3)\n",
      "y_test has shape: (4307, 7)\n",
      "\n",
      "X_train + X_valid + X_test = 28709 samples in total\n"
     ]
    }
   ],
   "source": [
    "# Split the dataset into two subsets (70%-30%). The first one will be used for training.\n",
    "X_train, X_test, y_train, y_test = train_test_split(data, labels, test_size=0.3, shuffle=True, random_state=3)\n",
    "\n",
    "print(f\"X_train has shape: {X_train.shape}\")\n",
    "print(f\"y_train has shape: {y_train.shape}\\n\")\n",
    "\n",
    "# The second subset will be split into validation and test set (50%-50%).\n",
    "X_valid, X_test, y_valid, y_test = train_test_split(X_test, y_test, test_size=0.5, shuffle=True, random_state=3)\n",
    "\n",
    "print(f\"X_valid has shape: {X_valid.shape}\")\n",
    "print(f\"y_valid has shape: {y_valid.shape}\\n\")\n",
    "\n",
    "print(f\"X_test has shape: {X_test.shape}\")\n",
    "print(f\"y_test has shape: {y_test.shape}\\n\")\n",
    "\n",
    "print(f\"X_train + X_valid + X_test = {X_train.shape[0] + X_valid.shape[0] + X_test.shape[0]} samples in total\")"
   ]
  },
  {
   "cell_type": "code",
   "execution_count": 6,
   "metadata": {},
   "outputs": [
    {
     "ename": "ValueError",
     "evalue": "('Input data in `NumpyArrayIterator` should have rank 4. You passed an array with shape', (20096, 1, 48, 48, 3))",
     "output_type": "error",
     "traceback": [
      "\u001b[0;31m---------------------------------------------------------------------------\u001b[0m",
      "\u001b[0;31mValueError\u001b[0m                                Traceback (most recent call last)",
      "\u001b[0;32m<ipython-input-6-9ddd50f49d68>\u001b[0m in \u001b[0;36m<module>\u001b[0;34m\u001b[0m\n\u001b[1;32m     14\u001b[0m \u001b[0;31m# Randomly vizualize some augmented samples\u001b[0m\u001b[0;34m\u001b[0m\u001b[0;34m\u001b[0m\u001b[0;34m\u001b[0m\u001b[0m\n\u001b[1;32m     15\u001b[0m \u001b[0mplt\u001b[0m\u001b[0;34m.\u001b[0m\u001b[0mfigure\u001b[0m\u001b[0;34m(\u001b[0m\u001b[0mfigsize\u001b[0m\u001b[0;34m=\u001b[0m\u001b[0;34m(\u001b[0m\u001b[0;36m10\u001b[0m\u001b[0;34m,\u001b[0m\u001b[0;36m10\u001b[0m\u001b[0;34m)\u001b[0m\u001b[0;34m)\u001b[0m\u001b[0;34m\u001b[0m\u001b[0;34m\u001b[0m\u001b[0m\n\u001b[0;32m---> 16\u001b[0;31m \u001b[0;32mfor\u001b[0m \u001b[0mi\u001b[0m\u001b[0;34m,\u001b[0m \u001b[0;34m(\u001b[0m\u001b[0mimage\u001b[0m\u001b[0;34m,\u001b[0m \u001b[0mlabel\u001b[0m\u001b[0;34m)\u001b[0m \u001b[0;32min\u001b[0m \u001b[0menumerate\u001b[0m\u001b[0;34m(\u001b[0m\u001b[0mtrainAug\u001b[0m\u001b[0;34m.\u001b[0m\u001b[0mflow\u001b[0m\u001b[0;34m(\u001b[0m\u001b[0mX_train\u001b[0m\u001b[0;34m,\u001b[0m \u001b[0my_train\u001b[0m\u001b[0;34m,\u001b[0m \u001b[0mbatch_size\u001b[0m\u001b[0;34m=\u001b[0m\u001b[0;36m1\u001b[0m\u001b[0;34m)\u001b[0m\u001b[0;34m)\u001b[0m\u001b[0;34m:\u001b[0m\u001b[0;34m\u001b[0m\u001b[0;34m\u001b[0m\u001b[0m\n\u001b[0m\u001b[1;32m     17\u001b[0m     \u001b[0;32mif\u001b[0m \u001b[0mi\u001b[0m \u001b[0;34m==\u001b[0m \u001b[0;36m9\u001b[0m\u001b[0;34m:\u001b[0m\u001b[0;34m\u001b[0m\u001b[0;34m\u001b[0m\u001b[0m\n\u001b[1;32m     18\u001b[0m         \u001b[0;32mbreak\u001b[0m\u001b[0;34m\u001b[0m\u001b[0;34m\u001b[0m\u001b[0m\n",
      "\u001b[0;32m~/opt/anaconda3/lib/python3.8/site-packages/keras/preprocessing/image.py\u001b[0m in \u001b[0;36mflow\u001b[0;34m(self, x, y, batch_size, shuffle, sample_weight, seed, save_to_dir, save_prefix, save_format, subset)\u001b[0m\n\u001b[1;32m    882\u001b[0m \u001b[0;34m\u001b[0m\u001b[0m\n\u001b[1;32m    883\u001b[0m     \"\"\"\n\u001b[0;32m--> 884\u001b[0;31m     return NumpyArrayIterator(\n\u001b[0m\u001b[1;32m    885\u001b[0m         \u001b[0mx\u001b[0m\u001b[0;34m,\u001b[0m\u001b[0;34m\u001b[0m\u001b[0;34m\u001b[0m\u001b[0m\n\u001b[1;32m    886\u001b[0m         \u001b[0my\u001b[0m\u001b[0;34m,\u001b[0m\u001b[0;34m\u001b[0m\u001b[0;34m\u001b[0m\u001b[0m\n",
      "\u001b[0;32m~/opt/anaconda3/lib/python3.8/site-packages/keras/preprocessing/image.py\u001b[0m in \u001b[0;36m__init__\u001b[0;34m(self, x, y, image_data_generator, batch_size, shuffle, sample_weight, seed, data_format, save_to_dir, save_prefix, save_format, subset, dtype)\u001b[0m\n\u001b[1;32m    461\u001b[0m         \u001b[0mdtype\u001b[0m \u001b[0;34m=\u001b[0m \u001b[0mbackend\u001b[0m\u001b[0;34m.\u001b[0m\u001b[0mfloatx\u001b[0m\u001b[0;34m(\u001b[0m\u001b[0;34m)\u001b[0m\u001b[0;34m\u001b[0m\u001b[0;34m\u001b[0m\u001b[0m\n\u001b[1;32m    462\u001b[0m       \u001b[0mkwargs\u001b[0m\u001b[0;34m[\u001b[0m\u001b[0;34m'dtype'\u001b[0m\u001b[0;34m]\u001b[0m \u001b[0;34m=\u001b[0m \u001b[0mdtype\u001b[0m\u001b[0;34m\u001b[0m\u001b[0;34m\u001b[0m\u001b[0m\n\u001b[0;32m--> 463\u001b[0;31m     super(NumpyArrayIterator, self).__init__(\n\u001b[0m\u001b[1;32m    464\u001b[0m         \u001b[0mx\u001b[0m\u001b[0;34m,\u001b[0m \u001b[0my\u001b[0m\u001b[0;34m,\u001b[0m \u001b[0mimage_data_generator\u001b[0m\u001b[0;34m,\u001b[0m\u001b[0;34m\u001b[0m\u001b[0;34m\u001b[0m\u001b[0m\n\u001b[1;32m    465\u001b[0m         \u001b[0mbatch_size\u001b[0m\u001b[0;34m=\u001b[0m\u001b[0mbatch_size\u001b[0m\u001b[0;34m,\u001b[0m\u001b[0;34m\u001b[0m\u001b[0;34m\u001b[0m\u001b[0m\n",
      "\u001b[0;32m~/opt/anaconda3/lib/python3.8/site-packages/keras_preprocessing/image/numpy_array_iterator.py\u001b[0m in \u001b[0;36m__init__\u001b[0;34m(self, x, y, image_data_generator, batch_size, shuffle, sample_weight, seed, data_format, save_to_dir, save_prefix, save_format, subset, dtype)\u001b[0m\n\u001b[1;32m    122\u001b[0m         \u001b[0mself\u001b[0m\u001b[0;34m.\u001b[0m\u001b[0mx_misc\u001b[0m \u001b[0;34m=\u001b[0m \u001b[0mx_misc\u001b[0m\u001b[0;34m\u001b[0m\u001b[0;34m\u001b[0m\u001b[0m\n\u001b[1;32m    123\u001b[0m         \u001b[0;32mif\u001b[0m \u001b[0mself\u001b[0m\u001b[0;34m.\u001b[0m\u001b[0mx\u001b[0m\u001b[0;34m.\u001b[0m\u001b[0mndim\u001b[0m \u001b[0;34m!=\u001b[0m \u001b[0;36m4\u001b[0m\u001b[0;34m:\u001b[0m\u001b[0;34m\u001b[0m\u001b[0;34m\u001b[0m\u001b[0m\n\u001b[0;32m--> 124\u001b[0;31m             raise ValueError('Input data in `NumpyArrayIterator` '\n\u001b[0m\u001b[1;32m    125\u001b[0m                              \u001b[0;34m'should have rank 4. You passed an array '\u001b[0m\u001b[0;34m\u001b[0m\u001b[0;34m\u001b[0m\u001b[0m\n\u001b[1;32m    126\u001b[0m                              'with shape', self.x.shape)\n",
      "\u001b[0;31mValueError\u001b[0m: ('Input data in `NumpyArrayIterator` should have rank 4. You passed an array with shape', (20096, 1, 48, 48, 3))"
     ]
    },
    {
     "data": {
      "text/plain": [
       "<Figure size 720x720 with 0 Axes>"
      ]
     },
     "metadata": {},
     "output_type": "display_data"
    }
   ],
   "source": [
    "# Map the emotion-categories\n",
    "mapping = {0:'happy', 1:'sad', 2:'fear', 3:'neutral', 4:'angry', 5:'disgusted', 6:'surprise'}\n",
    "\n",
    "# Initialize the training data augmentation object\n",
    "trainAug = ImageDataGenerator(rotation_range=15,\n",
    "                              zoom_range=0.15,\n",
    "                              #width_shift_range=0.2,\n",
    "                              brightness_range=(.6, 1.2),\n",
    "                              shear_range=.15,\n",
    "                              #height_shift_range=0.2,\n",
    "                              horizontal_flip=True,\n",
    "                              fill_mode=\"nearest\")\n",
    "\n",
    "# Randomly vizualize some augmented samples\n",
    "plt.figure(figsize=(10,10))\n",
    "for i, (image, label) in enumerate(trainAug.flow(X_train, y_train, batch_size=1)):\n",
    "    if i == 9:\n",
    "        break\n",
    "\n",
    "    ax = plt.subplot(3, 3, i + 1)\n",
    "    plt.imshow(np.squeeze(image)/255.)\n",
    "    plt.title(mapping[np.argmax(label)])\n",
    "    plt.axis(\"off\")\n",
    "\n"
   ]
  },
  {
   "cell_type": "code",
   "execution_count": null,
   "metadata": {},
   "outputs": [],
   "source": []
  }
 ],
 "metadata": {
  "kernelspec": {
   "display_name": "Python 3",
   "language": "python",
   "name": "python3"
  },
  "language_info": {
   "codemirror_mode": {
    "name": "ipython",
    "version": 3
   },
   "file_extension": ".py",
   "mimetype": "text/x-python",
   "name": "python",
   "nbconvert_exporter": "python",
   "pygments_lexer": "ipython3",
   "version": "3.8.8"
  }
 },
 "nbformat": 4,
 "nbformat_minor": 4
}
